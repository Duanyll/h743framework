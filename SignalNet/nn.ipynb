{
 "cells": [
  {
   "cell_type": "code",
   "execution_count": 1,
   "metadata": {},
   "outputs": [],
   "source": [
    "import torch\n",
    "import torch.nn as nn\n",
    "from einops import rearrange, repeat, reduce\n",
    "import numpy as np\n",
    "import matplotlib.pyplot as plt\n",
    "import torch.nn.functional as F\n",
    "from tqdm.notebook import tqdm\n",
    "import random\n",
    "import time"
   ]
  },
  {
   "cell_type": "code",
   "execution_count": 2,
   "metadata": {},
   "outputs": [],
   "source": [
    "# 1d convolution neural network for signal classification\n",
    "class SignalNet(nn.Module):\n",
    "    def __init__(self, input_length, out_classes) -> None:\n",
    "        super().__init__()\n",
    "        self.input_length = input_length\n",
    "        self.out_classes = out_classes\n",
    "        self.layer = nn.Sequential(\n",
    "            # 2 x 138\n",
    "            nn.Conv1d(kernel_size=3, in_channels=2, out_channels=16),\n",
    "            # 32 x 136\n",
    "            nn.ReLU(),\n",
    "            nn.BatchNorm1d(16),\n",
    "            nn.AdaptiveAvgPool1d(34),\n",
    "            # 32 x 34\n",
    "            nn.Conv1d(kernel_size=3, in_channels=16, out_channels=16),\n",
    "            # 32 x 32\n",
    "            nn.ReLU(),\n",
    "            nn.BatchNorm1d(16),\n",
    "            nn.AdaptiveAvgPool1d(8),\n",
    "            # 32 x 8\n",
    "            nn.Flatten(),\n",
    "            nn.Linear(16 * 8, 32),\n",
    "            nn.ReLU(),\n",
    "            nn.Linear(32, out_classes),\n",
    "            nn.Softmax(dim=1)\n",
    "        )\n",
    "\n",
    "    def forward(self, x):\n",
    "        return self.layer(x)\n",
    "    \n",
    "points = 138\n",
    "sample_rate = 30_000"
   ]
  },
  {
   "cell_type": "code",
   "execution_count": 3,
   "metadata": {},
   "outputs": [],
   "source": [
    "import serial\n",
    "import pyvisa\n",
    "global com\n",
    "global device\n",
    "\n",
    "def open_com(com_port):\n",
    "    global com\n",
    "    if globals().get(\"com\") is not None:\n",
    "        com.close()\n",
    "    com = serial.Serial(\n",
    "        port=com_port,\n",
    "        baudrate=115200,\n",
    "        bytesize=8,\n",
    "        timeout=2,\n",
    "        parity=serial.PARITY_NONE,\n",
    "        stopbits=serial.STOPBITS_ONE,\n",
    "    )\n",
    "\n",
    "def open_device():\n",
    "    global device\n",
    "    rm = pyvisa.ResourceManager()\n",
    "    devices = rm.list_resources()\n",
    "    for d in devices:\n",
    "        if d.startswith(\"USB0\"):\n",
    "            device = rm.open_resource(d)\n",
    "            return\n",
    "    raise Exception(\"No device found\")\n",
    "\n",
    "def popcount(x):\n",
    "    return bin(x).count(\"1\")\n",
    "\n",
    "def collect_waveform(channels, points, sample_rate):\n",
    "    com.write(b\"\\x01\")\n",
    "    # 1 byte for channel flag\n",
    "    # 4 bytes for sample points\n",
    "    # 4 bytes for sample rate\n",
    "    com.write(int(channels).to_bytes(1, \"little\"))\n",
    "    com.write(int(points).to_bytes(4, \"little\"))\n",
    "    com.write(int(sample_rate).to_bytes(4, \"little\"))\n",
    "    com.write(b\"\\xff\\xff\\xff\")\n",
    "    com.flush()\n",
    "    head = com.read_until(b\"\\xff\\xff\\xff\\xff\")\n",
    "    if head != b\"\\xff\\xff\\xff\\xff\":\n",
    "        com.close()\n",
    "        raise ValueError(\"Read timeout, invalid header\")\n",
    "    channel_count = popcount(channels)\n",
    "    buf = com.read(channel_count * points * 2)\n",
    "    arr = np.frombuffer(buf, dtype=np.int16)\n",
    "    arr = rearrange(arr, \"(n ch) -> ch n\", ch=channel_count)\n",
    "    return arr\n",
    "\n",
    "def set_frequency(freq):\n",
    "    com.write(b\"\\x02\")\n",
    "    com.write(int(freq).to_bytes(4, \"little\"))\n",
    "    com.write(b\"\\xff\\xff\\xff\")\n",
    "    com.flush()"
   ]
  },
  {
   "cell_type": "code",
   "execution_count": 29,
   "metadata": {},
   "outputs": [],
   "source": [
    "NONE = 0\n",
    "FM = 1\n",
    "AM = 2\n",
    "\n",
    "\n",
    "def rand_not_in_range(center):\n",
    "    while True:\n",
    "        r = random.randint(30_000_000, 100_000_000)\n",
    "        if abs(r - center) > 500_000:\n",
    "            return r\n",
    "\n",
    "\n",
    "def collect_fm_data(count_mod):\n",
    "    global device\n",
    "    # for each mod, generate 3 positive samples and 3 negative samples\n",
    "    out_waveform = torch.zeros(count_mod * 6, 2, points)\n",
    "    out_label = torch.zeros(count_mod * 6, dtype=torch.long)\n",
    "    # (count_mod), range from 30MHz to 100MHz, uniform distribution\n",
    "    baseband_freq = torch.randint(20_000_000, 100_000_000, (count_mod,))\n",
    "    # (count_mod), range from 300Hz to 3kHz, uniform distribution\n",
    "    mod_freq = torch.randint(300, 3000, (count_mod,))\n",
    "    # (count_mod), range from 5kHz to 100kHz, uniform distribution\n",
    "    mod_devi = torch.randint(5_000, 100_000, (count_mod,))\n",
    "    idx = 0\n",
    "    device.write(\"C2:MDWV FM\")\n",
    "    for i in tqdm(range(count_mod)):\n",
    "        device.write(f\"C2:BSWV FRQ,{baseband_freq[i]}\")\n",
    "        device.write(f\"C2:MDWV FM,FRQ,{mod_freq[i]}\")\n",
    "        device.write(f\"C2:MDWV FM,DEVI,{mod_devi[i]}\")\n",
    "        time.sleep(1)\n",
    "        out_label[idx : idx + 6] = torch.LongTensor([FM, FM, FM, FM, NONE, NONE])\n",
    "        scan_freq = [\n",
    "            baseband_freq[i],\n",
    "            baseband_freq[i] + random.randint(-100_000, +100_000),\n",
    "            baseband_freq[i] + random.randint(-100_000, +100_000),\n",
    "            baseband_freq[i] + 10_700_000 * 2,\n",
    "            rand_not_in_range(baseband_freq[i]),\n",
    "            rand_not_in_range(baseband_freq[i]),\n",
    "        ]\n",
    "        for j in range(6):\n",
    "            set_frequency(scan_freq[j] - 10_700_000)\n",
    "            time.sleep(0.01)\n",
    "            tmp = torch.from_numpy(\n",
    "                collect_waveform(0b11, points, sample_rate).astype(np.float32)\n",
    "            )\n",
    "            tmp = tmp * 2.5 / 32768\n",
    "            out_waveform[idx + j, 0] = tmp[0]\n",
    "            out_waveform[idx + j, 1] = tmp[1]\n",
    "            out_waveform[idx + j, 0] -= torch.mean(out_waveform[idx + j, 0])\n",
    "            out_waveform[idx + j, 1] -= torch.mean(out_waveform[idx + j, 1])\n",
    "        idx += 6\n",
    "    return out_waveform, out_label\n",
    "\n",
    "\n",
    "def collect_am_data(count_mod):\n",
    "    global device\n",
    "    # for each mod, generate 3 positive samples and 3 negative samples\n",
    "    out_waveform = torch.zeros(count_mod * 6, 2, points)\n",
    "    out_label = torch.zeros(count_mod * 6, dtype=torch.long)\n",
    "    # (count_mod), range from 30MHz to 100MHz, uniform distribution\n",
    "    baseband_freq = torch.randint(20_000_000, 100_000_000, (count_mod,))\n",
    "    # (count_mod), range from 200Hz to 10kHz, uniform distribution\n",
    "    mod_freq = torch.randint(200, 10_000, (count_mod,))\n",
    "    # (count_mod), range from 20 to 100, uniform distribution\n",
    "    mod_depth = torch.randint(30, 100, (count_mod,))\n",
    "    idx = 0\n",
    "    device.write(\"C2:MDWV AM\")\n",
    "    for i in tqdm(range(count_mod)):\n",
    "        device.write(f\"C2:BSWV FRQ,{baseband_freq[i]}\")\n",
    "        device.write(f\"C2:MDWV AM,FRQ,{mod_freq[i]}\")\n",
    "        device.write(f\"C2:MDWV AM,DEPTH,{mod_depth[i]}\")\n",
    "        time.sleep(1)\n",
    "        out_label[idx : idx + 6] = torch.LongTensor([AM, AM, AM, AM, NONE, NONE])\n",
    "        scan_freq = [\n",
    "            baseband_freq[i],\n",
    "            baseband_freq[i] + random.randint(-100_000, +100_000),\n",
    "            baseband_freq[i] + random.randint(-100_000, +100_000),\n",
    "            baseband_freq[i] + 10_700_000 * 2,\n",
    "            rand_not_in_range(baseband_freq[i]),\n",
    "            rand_not_in_range(baseband_freq[i]),\n",
    "        ]\n",
    "        for j in range(6):\n",
    "            set_frequency(scan_freq[j] - 10_700_000)\n",
    "            time.sleep(0.01)\n",
    "            tmp = torch.from_numpy(\n",
    "                collect_waveform(0b0011, points, sample_rate).astype(np.float32)\n",
    "            )\n",
    "            tmp = tmp * 2.5 / 32768\n",
    "            out_waveform[idx + j, 0] = tmp[0]\n",
    "            out_waveform[idx + j, 1] = tmp[1]\n",
    "            out_waveform[idx + j, 0] -= torch.mean(out_waveform[idx + j, 0])\n",
    "            out_waveform[idx + j, 1] -= torch.mean(out_waveform[idx + j, 1])\n",
    "        idx += 6\n",
    "    return out_waveform, out_label"
   ]
  },
  {
   "cell_type": "code",
   "execution_count": 30,
   "metadata": {},
   "outputs": [
    {
     "data": {
      "application/vnd.jupyter.widget-view+json": {
       "model_id": "56b6593a833541b0a7b74086d2b1bc18",
       "version_major": 2,
       "version_minor": 0
      },
      "text/plain": [
       "  0%|          | 0/200 [00:00<?, ?it/s]"
      ]
     },
     "metadata": {},
     "output_type": "display_data"
    },
    {
     "data": {
      "application/vnd.jupyter.widget-view+json": {
       "model_id": "1cb5d27fbacd4571bd7e1d7540f3ccbf",
       "version_major": 2,
       "version_minor": 0
      },
      "text/plain": [
       "  0%|          | 0/200 [00:00<?, ?it/s]"
      ]
     },
     "metadata": {},
     "output_type": "display_data"
    }
   ],
   "source": [
    "open_com(\"COM8\")\n",
    "open_device()\n",
    "fm_waveform, fm_label = collect_fm_data(200)\n",
    "am_waveform, am_label = collect_am_data(200)\n",
    "waveform = torch.cat([fm_waveform, am_waveform], dim=0)\n",
    "label = torch.cat([fm_label, am_label], dim=0)\n",
    "torch.save(waveform, \"waveform.pt\")\n",
    "torch.save(label, \"label.pt\")"
   ]
  },
  {
   "cell_type": "code",
   "execution_count": 3,
   "metadata": {},
   "outputs": [],
   "source": [
    "def train():\n",
    "    model = SignalNet(138, 3)\n",
    "    optimizer = torch.optim.Adam(model.parameters(), lr=0.001)\n",
    "    loss_fn = torch.nn.CrossEntropyLoss()\n",
    "    waveform = torch.load(\"waveform.pt\")\n",
    "    label = torch.load(\"label.pt\")\n",
    "    dataset = torch.utils.data.TensorDataset(waveform, label)\n",
    "    train_loader = torch.utils.data.DataLoader(dataset, batch_size=32, shuffle=True)\n",
    "    # show plot of accuracy\n",
    "    for epoch in tqdm(range(10)):\n",
    "        correct_count = 0\n",
    "        for i, (waveform, label) in enumerate(train_loader):\n",
    "            pred = model(waveform)\n",
    "            loss = loss_fn(pred, label)\n",
    "            optimizer.zero_grad()\n",
    "            loss.backward()\n",
    "            optimizer.step()\n",
    "            pred = torch.argmax(pred, dim=1)\n",
    "            correct_count += torch.sum(pred == label)\n",
    "            # print(f\"Epoch {epoch}, batch {i}, loss {loss.item()}\")\n",
    "        print(f\"Epoch {epoch}, accuracy {correct_count / len(dataset)}\")\n",
    "        torch.save(model.state_dict(), f\"model_{epoch}.pt\")"
   ]
  },
  {
   "cell_type": "code",
   "execution_count": 7,
   "metadata": {},
   "outputs": [
    {
     "data": {
      "application/vnd.jupyter.widget-view+json": {
       "model_id": "0ed9ddd645764e8190cca303347d48b5",
       "version_major": 2,
       "version_minor": 0
      },
      "text/plain": [
       "  0%|          | 0/10 [00:00<?, ?it/s]"
      ]
     },
     "metadata": {},
     "output_type": "display_data"
    },
    {
     "name": "stdout",
     "output_type": "stream",
     "text": [
      "Epoch 0, accuracy 0.715833306312561\n",
      "Epoch 1, accuracy 0.9208333492279053\n",
      "Epoch 2, accuracy 0.9479166865348816\n",
      "Epoch 3, accuracy 0.9312499761581421\n",
      "Epoch 4, accuracy 0.9487500190734863\n",
      "Epoch 5, accuracy 0.95333331823349\n",
      "Epoch 6, accuracy 0.9558333158493042\n",
      "Epoch 7, accuracy 0.9583333134651184\n",
      "Epoch 8, accuracy 0.9541666507720947\n",
      "Epoch 9, accuracy 0.95333331823349\n"
     ]
    }
   ],
   "source": [
    "train()"
   ]
  },
  {
   "cell_type": "code",
   "execution_count": 8,
   "metadata": {},
   "outputs": [
    {
     "name": "stdout",
     "output_type": "stream",
     "text": [
      "tensor([[778.,  20.,   2.],\n",
      "        [  3., 791.,   6.],\n",
      "        [ 45.,  44., 711.]])\n"
     ]
    }
   ],
   "source": [
    "model = SignalNet(138, 3)\n",
    "model.load_state_dict(torch.load(\"model_9.pt\"))\n",
    "model.eval()\n",
    "waveform = torch.load(\"waveform.pt\")\n",
    "label = torch.load(\"label.pt\")\n",
    "dataset = torch.utils.data.TensorDataset(waveform, label)\n",
    "test_loader = torch.utils.data.DataLoader(dataset, batch_size=32, shuffle=True)\n",
    "# show confusion matrix\n",
    "confusion_matrix = torch.zeros(3, 3)\n",
    "for i, (waveform, label) in enumerate(test_loader):\n",
    "    pred = model(waveform)\n",
    "    pred = torch.argmax(pred, dim=1)\n",
    "    for j in range(len(label)):\n",
    "        confusion_matrix[label[j], pred[j]] += 1\n",
    "print(confusion_matrix)"
   ]
  },
  {
   "cell_type": "code",
   "execution_count": 68,
   "metadata": {},
   "outputs": [
    {
     "name": "stdout",
     "output_type": "stream",
     "text": [
      "AM\n"
     ]
    }
   ],
   "source": [
    "# take live data and predict\n",
    "set_frequency(50_000_000)\n",
    "data = collect_waveform(0b0011, points, sample_rate)\n",
    "data = torch.from_numpy(data.astype(np.float32))\n",
    "data = data * 2.5 / 32768\n",
    "data[0] -= torch.mean(data[0])\n",
    "data[1] -= torch.mean(data[1])\n",
    "data = data.unsqueeze(0)\n",
    "pred = model(data)\n",
    "pred = torch.argmax(pred, dim=1)\n",
    "if pred == 0:\n",
    "    print(\"NONE\")\n",
    "elif pred == 1:\n",
    "    print(\"FM\")\n",
    "elif pred == 2:\n",
    "    print(\"AM\")"
   ]
  }
 ],
 "metadata": {
  "kernelspec": {
   "display_name": "base",
   "language": "python",
   "name": "python3"
  },
  "language_info": {
   "codemirror_mode": {
    "name": "ipython",
    "version": 3
   },
   "file_extension": ".py",
   "mimetype": "text/x-python",
   "name": "python",
   "nbconvert_exporter": "python",
   "pygments_lexer": "ipython3",
   "version": "3.10.9"
  },
  "orig_nbformat": 4
 },
 "nbformat": 4,
 "nbformat_minor": 2
}

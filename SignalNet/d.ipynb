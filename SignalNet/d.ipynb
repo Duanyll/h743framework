{
 "cells": [
  {
   "cell_type": "code",
   "execution_count": 2,
   "metadata": {},
   "outputs": [],
   "source": [
    "%matplotlib inline\n",
    "import numpy as np\n",
    "import matplotlib.pyplot as plt\n",
    "from matplotlib import animation\n",
    "from einops import rearrange, repeat, reduce\n",
    "import serial\n",
    "import scipy\n",
    "from IPython.display import HTML\n",
    "import time\n",
    "from tqdm.notebook import tqdm\n",
    "import pyvisa\n",
    "\n",
    "np.set_printoptions(precision=4, suppress=True)"
   ]
  },
  {
   "cell_type": "code",
   "execution_count": 3,
   "metadata": {},
   "outputs": [],
   "source": [
    "def open_device():\n",
    "    global device\n",
    "    if 'device' in globals():\n",
    "        if device is not None:\n",
    "            device.close()\n",
    "    rm = pyvisa.ResourceManager()\n",
    "    devices = rm.list_resources()\n",
    "    for d in devices:\n",
    "        if d.startswith(\"USB0\"):\n",
    "            device = rm.open_resource(d)\n",
    "            print(\"Device found: \", d)\n",
    "            print(device.query(\"*IDN?\"))\n",
    "            return\n",
    "    raise Exception(\"No device found\")"
   ]
  },
  {
   "cell_type": "code",
   "execution_count": 4,
   "metadata": {},
   "outputs": [
    {
     "name": "stdout",
     "output_type": "stream",
     "text": [
      "Device found:  USB0::0xF4EC::0x1102::SDG2XBA4150426::INSTR\n",
      "Siglent Technologies,SDG2122X,SDG2XBA4150426,2.01.01.37R6\n",
      "\n"
     ]
    }
   ],
   "source": [
    "# Connect to Siglent SDG2122X\n",
    "open_device()"
   ]
  },
  {
   "cell_type": "code",
   "execution_count": 27,
   "metadata": {},
   "outputs": [],
   "source": [
    "def setup_device():\n",
    "    device.write(\"*RST\")\n",
    "    time.sleep(0.1)\n",
    "    device.write(\"C1:OUTP LOAD,50\")\n",
    "    device.write(\"C1:BSWV FRQ,2000000\")\n",
    "    device.write(\"C1:BSWV AMP,0.1\")\n",
    "    device.write(\"C1:OUTP ON\")\n",
    "    # device.flush()\n",
    "    # time.sleep(2)\n",
    "\n",
    "# setup_device()"
   ]
  },
  {
   "cell_type": "code",
   "execution_count": 32,
   "metadata": {},
   "outputs": [],
   "source": [
    "def set_carrier():\n",
    "    device.write(\"C1:MDWV STATE,OFF\")\n",
    "\n",
    "\n",
    "def set_am(am_freq, am_depth):\n",
    "    device.write(\"C1:MDWV STATE,ON\")\n",
    "    # time.sleep(1)\n",
    "    device.write(\"C1:MDWV AM\")\n",
    "    device.write(f\"C1:MDWV AM,MDSP,SINE\")\n",
    "    device.write(f\"C1:MDWV AM,FRQ,{am_freq}\")\n",
    "    device.write(f\"C1:MDWV AM,DEPTH,{am_depth * 100}\")\n",
    "\n",
    "\n",
    "def set_fm(fm_freq, fm_dev):\n",
    "    device.write(\"C1:MDWV STATE,ON\")\n",
    "    # time.sleep(1)\n",
    "    device.write(\"C1:MDWV FM\")\n",
    "    device.write(f\"C1:MDWV FM,MDSP,SINE\")\n",
    "    device.write(f\"C1:MDWV FM,FRQ,{fm_freq}\")\n",
    "    device.write(f\"C1:MDWV FM,DEV,{fm_dev}\")\n",
    "\n",
    "\n",
    "def set_ask(am_freq, am_depth):\n",
    "    device.write(\"C1:MDWV STATE,ON\")\n",
    "    # time.sleep(1)\n",
    "    device.write(\"C1:MDWV AM\")\n",
    "    device.write(f\"C1:MDWV AM,MDSP,SQUARE\")\n",
    "    device.write(f\"C1:MDWV AM,FRQ,{am_freq}\")\n",
    "    device.write(f\"C1:MDWV AM,DEPTH,{am_depth * 100}\")\n",
    "\n",
    "\n",
    "def set_fsk(fm_freq, fm_hop):\n",
    "    device.write(\"C1:MDWV STATE,ON\")\n",
    "    # time.sleep(1)\n",
    "    device.write(\"C1:MDWV FSK\")\n",
    "    device.write(f\"C1:MDWV FSK,KFRQ,{fm_freq}\")\n",
    "    device.write(f\"C1:MDWV FSK,HFRQ,{fm_hop}\")"
   ]
  },
  {
   "cell_type": "code",
   "execution_count": 31,
   "metadata": {},
   "outputs": [],
   "source": [
    "# setup_device()\n",
    "set_fsk(8_000, 2_000_100)"
   ]
  }
 ],
 "metadata": {
  "kernelspec": {
   "display_name": "base",
   "language": "python",
   "name": "python3"
  },
  "language_info": {
   "codemirror_mode": {
    "name": "ipython",
    "version": 3
   },
   "file_extension": ".py",
   "mimetype": "text/x-python",
   "name": "python",
   "nbconvert_exporter": "python",
   "pygments_lexer": "ipython3",
   "version": "3.10.9"
  },
  "orig_nbformat": 4
 },
 "nbformat": 4,
 "nbformat_minor": 2
}
